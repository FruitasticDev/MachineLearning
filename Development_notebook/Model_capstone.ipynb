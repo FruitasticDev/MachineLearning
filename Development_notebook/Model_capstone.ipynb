{
  "cells": [
    {
      "cell_type": "markdown",
      "metadata": {
        "id": "01VfYfPCxY2-"
      },
      "source": [
        "# Import Library\n"
      ]
    },
    {
      "cell_type": "code",
      "execution_count": null,
      "metadata": {
        "colab": {
          "base_uri": "https://localhost:8080/"
        },
        "id": "DTYfUNUcx9do",
        "outputId": "53fbfe0c-c0f4-44a9-a3e0-7465e2928b4e"
      },
      "outputs": [
        {
          "name": "stdout",
          "output_type": "stream",
          "text": [
            "Collecting wget\n",
            "  Downloading wget-3.2.zip (10 kB)\n",
            "  Preparing metadata (setup.py) ... \u001b[?25l\u001b[?25hdone\n",
            "Building wheels for collected packages: wget\n",
            "  Building wheel for wget (setup.py) ... \u001b[?25l\u001b[?25hdone\n",
            "  Created wheel for wget: filename=wget-3.2-py3-none-any.whl size=9656 sha256=9cc96e257fb5b38ab8f59fef2550db7906e67a5a30a5e5c59e85afcd0fafdfb3\n",
            "  Stored in directory: /root/.cache/pip/wheels/8b/f1/7f/5c94f0a7a505ca1c81cd1d9208ae2064675d97582078e6c769\n",
            "Successfully built wget\n",
            "Installing collected packages: wget\n",
            "Successfully installed wget-3.2\n"
          ]
        }
      ],
      "source": [
        "# Import library utama\n",
        "!pip install wget\n",
        "import wget\n",
        "import zipfile\n",
        "import os\n",
        "import matplotlib.pyplot as plt\n",
        "import pandas as pd\n",
        "import tensorflow as tf\n",
        "from tensorflow.keras.preprocessing.image import ImageDataGenerator\n",
        "from tensorflow.keras.applications import VGG16\n",
        "from tensorflow.keras import layers, models\n"
      ]
    },
    {
      "cell_type": "markdown",
      "metadata": {
        "id": "8sQ9HX6Jxc_M"
      },
      "source": [
        "# Download dan Ekstraksi Dataset"
      ]
    },
    {
      "cell_type": "code",
      "execution_count": null,
      "metadata": {
        "colab": {
          "base_uri": "https://localhost:8080/"
        },
        "id": "A-x0FubwyeG7",
        "outputId": "f11cae3b-e7e9-41c7-ab57-c05ed94c1338"
      },
      "outputs": [
        {
          "name": "stdout",
          "output_type": "stream",
          "text": [
            "Downloading file...\n",
            "\n",
            "File downloaded: FruQ-multi.zip\n",
            "Extracting files...\n",
            "Files extracted to folder: datasetbuah\n",
            "Removed zip file: FruQ-multi.zip\n"
          ]
        }
      ],
      "source": [
        "# URL file zip\n",
        "url = \"https://zenodo.org/records/7224690/files/FruQ-multi.zip?download=1\"\n",
        "zip_file_name = \"FruQ-multi.zip\"  # Nama file zip setelah diunduh\n",
        "extract_to_folder = \"datasetbuah\"  # Folder tujuan untuk ekstraksi\n",
        "\n",
        "# Download file zip\n",
        "print(\"Downloading file...\")\n",
        "wget.download(url, zip_file_name)\n",
        "print(f\"\\nFile downloaded: {zip_file_name}\")\n",
        "\n",
        "# Ekstrak file zip\n",
        "print(\"Extracting files...\")\n",
        "with zipfile.ZipFile(zip_file_name, 'r') as zip_ref:\n",
        "    zip_ref.extractall(extract_to_folder)\n",
        "print(f\"Files extracted to folder: {extract_to_folder}\")\n",
        "\n",
        "# Opsional: Hapus file zip setelah ekstraksi\n",
        "if os.path.exists(zip_file_name):\n",
        "    os.remove(zip_file_name)\n",
        "    print(f\"Removed zip file: {zip_file_name}\")\n"
      ]
    },
    {
      "cell_type": "markdown",
      "metadata": {
        "id": "PzXCySqYxivr"
      },
      "source": [
        "# EDA"
      ]
    },
    {
      "cell_type": "code",
      "execution_count": null,
      "metadata": {
        "colab": {
          "base_uri": "https://localhost:8080/"
        },
        "id": "KFm5lu3E0HWO",
        "outputId": "ac7f728b-fb96-4579-8e04-741e5d8bca2b"
      },
      "outputs": [
        {
          "name": "stdout",
          "output_type": "stream",
          "text": [
            "Files in 'datasetbuah/FruQ-multi':\n",
            "['StrawberryQ', 'PearQ', 'PapayaQ', 'PepperQ', 'GrapeQ', 'tomatoQ', 'KakiQ', 'CucumberQ', 'WatermeloQ', 'BananaDB', 'PeachQ']\n",
            "Data per kategori:\n",
            "StrawberryQ: {'Mild': 119, 'Rotten': 97}\n",
            "PearQ: {'Good': 504, 'Mild': 493, 'Rotten': 100}\n",
            "PapayaQ: {'Good': 130, 'Mild': 250, 'Rotten': 413}\n",
            "PepperQ: {'Good': 48, 'Mild': 24, 'Rotten': 660}\n",
            "GrapeQ: {'Good': 227, 'Mild': 194, 'Rotten': 288}\n",
            "tomatoQ: {'Good': 600, 'Mild': 440, 'Rotten': 950}\n",
            "KakiQ: {'Good': 545, 'Mild': 226, 'Rotten': 340}\n",
            "CucumberQ: {'Mild': 345, 'Fresh': 250, 'Rotten': 116}\n",
            "WatermeloQ: {'Good': 51, 'Mild': 53, 'Rotten': 150}\n",
            "BananaDB: {'Good': 179, 'mild': 96, 'Rotten': 337}\n",
            "PeachQ: {'Good': 425, 'Mild': 136, 'Rotten': 584}\n"
          ]
        }
      ],
      "source": [
        "# Path utama dataset\n",
        "main_folder = \"datasetbuah/FruQ-multi\"\n",
        "\n",
        "# List file di dalam folder\n",
        "files = os.listdir(main_folder)\n",
        "print(f\"Files in '{main_folder}':\")\n",
        "print(files)\n",
        "\n",
        "# Hitung jumlah gambar per kategori\n",
        "fruit_data = {}\n",
        "\n",
        "for fruit_folder in os.listdir(main_folder):\n",
        "    fruit_path = os.path.join(main_folder, fruit_folder)\n",
        "    if os.path.isdir(fruit_path):\n",
        "        categories = {}\n",
        "\n",
        "        for category_folder in os.listdir(fruit_path):\n",
        "            category_path = os.path.join(fruit_path, category_folder)\n",
        "            if os.path.isdir(category_path):\n",
        "                num_images = len([f for f in os.listdir(category_path) if f.endswith(('.png', '.jpg', '.jpeg'))])\n",
        "                categories[category_folder] = num_images\n",
        "\n",
        "        fruit_data[fruit_folder] = categories\n",
        "\n",
        "# Cetak hasil verifikasi data\n",
        "print(\"Data per kategori:\")\n",
        "for fruit, categories in fruit_data.items():\n",
        "    print(f\"{fruit}: {categories}\")\n"
      ]
    },
    {
      "cell_type": "code",
      "execution_count": null,
      "metadata": {
        "colab": {
          "base_uri": "https://localhost:8080/"
        },
        "id": "ecBOvmSu0MTJ",
        "outputId": "34fe38b0-6435-4885-cd2c-a474005d2af2"
      },
      "outputs": [
        {
          "name": "stdout",
          "output_type": "stream",
          "text": [
            "Dataset akhir yang siap digunakan:\n",
            "WatermeloQ: {'Mild': 53, 'Rotten': 150, 'Good': 51}\n",
            "PepperQ: {'Mild': 24, 'Rotten': 660, 'Good': 48}\n",
            "GrapeQ: {'Mild': 194, 'Rotten': 288, 'Good': 227}\n",
            "BananaDB: {'Mild': 96, 'Rotten': 337, 'Good': 179}\n",
            "PeachQ: {'Mild': 136, 'Rotten': 584, 'Good': 425}\n",
            "PearQ: {'Mild': 493, 'Rotten': 100, 'Good': 504}\n",
            "tomatoQ: {'Mild': 440, 'Rotten': 950, 'Good': 600}\n",
            "PapayaQ: {'Mild': 250, 'Rotten': 413, 'Good': 130}\n",
            "KakiQ: {'Mild': 226, 'Rotten': 340, 'Good': 545}\n"
          ]
        }
      ],
      "source": [
        "# Dataset awal\n",
        "dataset = {\n",
        "    \"WatermeloQ\": {\"Mild\": 53, \"Rotten\": 150, \"Good\": 51},\n",
        "    \"StrawberryQ\": {\"Mild\": 119, \"Rotten\": 97},\n",
        "    \"PepperQ\": {\"Mild\": 24, \"Rotten\": 660, \"Good\": 48},\n",
        "    \"GrapeQ\": {\"Mild\": 194, \"Rotten\": 288, \"Good\": 227},\n",
        "    \"BananaDB\": {\"mild\": 96, \"Rotten\": 337, \"Good\": 179},\n",
        "    \"PeachQ\": {\"Mild\": 136, \"Rotten\": 584, \"Good\": 425},\n",
        "    \"PearQ\": {\"Mild\": 493, \"Rotten\": 100, \"Good\": 504},\n",
        "    \"tomatoQ\": {\"Mild\": 440, \"Rotten\": 950, \"Good\": 600},\n",
        "    \"CucumberQ\": {\"Mild\": 345, \"Rotten\": 116, \"Fresh\": 250},\n",
        "    \"PapayaQ\": {\"Mild\": 250, \"Rotten\": 413, \"Good\": 130},\n",
        "    \"KakiQ\": {\"Mild\": 226, \"Rotten\": 340, \"Good\": 545}\n",
        "}\n",
        "\n",
        "# Filter dataset valid\n",
        "def is_valid_data(fruit_data):\n",
        "    if not all(key in fruit_data for key in [\"Good\", \"Mild\", \"Rotten\"]):\n",
        "        return False\n",
        "    return min(fruit_data[\"Good\"], fruit_data[\"Mild\"], fruit_data[\"Rotten\"]) > 20\n",
        "\n",
        "filtered_dataset = {}\n",
        "for fruit, data in dataset.items():\n",
        "    corrected_data = {key.capitalize(): value for key, value in data.items()}\n",
        "    if is_valid_data(corrected_data):\n",
        "        filtered_dataset[fruit] = corrected_data\n",
        "\n",
        "print(\"Dataset akhir yang siap digunakan:\")\n",
        "for fruit, data in filtered_dataset.items():\n",
        "    print(f\"{fruit}: {data}\")\n"
      ]
    },
    {
      "cell_type": "markdown",
      "metadata": {
        "id": "TKvaTX4zxmhT"
      },
      "source": [
        "# Prepocessing"
      ]
    },
    {
      "cell_type": "code",
      "execution_count": null,
      "metadata": {
        "colab": {
          "base_uri": "https://localhost:8080/"
        },
        "id": "tjyZ2gzG0Slq",
        "outputId": "010ce4fa-d72f-4b5d-9c38-17cda46b8b76"
      },
      "outputs": [
        {
          "name": "stdout",
          "output_type": "stream",
          "text": [
            "Found 9370 images belonging to 11 classes.\n",
            "Found 9370 images belonging to 11 classes.\n"
          ]
        }
      ],
      "source": [
        "# Direktori dataset\n",
        "train_dir = 'datasetbuah/FruQ-multi'\n",
        "val_dir = 'datasetbuah/FruQ-multi'\n",
        "\n",
        "# Augmentasi data untuk pelatihan\n",
        "train_datagen = ImageDataGenerator(\n",
        "    rescale=1./255,\n",
        "    rotation_range=40,\n",
        "    width_shift_range=0.2,\n",
        "    height_shift_range=0.2,\n",
        "    shear_range=0.2,\n",
        "    zoom_range=0.2,\n",
        "    horizontal_flip=True,\n",
        "    fill_mode='nearest'\n",
        ")\n",
        "\n",
        "val_datagen = ImageDataGenerator(rescale=1./255)\n",
        "\n",
        "# Generator data\n",
        "train_generator = train_datagen.flow_from_directory(\n",
        "    train_dir,\n",
        "    target_size=(150, 150),\n",
        "    batch_size=16,\n",
        "    class_mode='categorical'\n",
        ")\n",
        "\n",
        "val_generator = val_datagen.flow_from_directory(\n",
        "    val_dir,\n",
        "    target_size=(150, 150),\n",
        "    batch_size=16,\n",
        "    class_mode='categorical'\n",
        ")\n"
      ]
    },
    {
      "cell_type": "markdown",
      "metadata": {
        "id": "5gvlSy5xxulo"
      },
      "source": [
        "# Build Model"
      ]
    },
    {
      "cell_type": "code",
      "execution_count": null,
      "metadata": {
        "colab": {
          "base_uri": "https://localhost:8080/"
        },
        "id": "oYZLaqhx0Yx8",
        "outputId": "b1010835-ac63-4cbc-d1ca-872b5f5d6ece"
      },
      "outputs": [
        {
          "name": "stderr",
          "output_type": "stream",
          "text": [
            "<ipython-input-11-16ce65daac26>:3: UserWarning: `input_shape` is undefined or non-square, or `rows` is not in [96, 128, 160, 192, 224]. Weights for input shape (224, 224) will be loaded as the default.\n",
            "  base_model = MobileNetV2(weights='imagenet', include_top=False, input_shape=(150, 150, 3))\n"
          ]
        },
        {
          "name": "stdout",
          "output_type": "stream",
          "text": [
            "Downloading data from https://storage.googleapis.com/tensorflow/keras-applications/mobilenet_v2/mobilenet_v2_weights_tf_dim_ordering_tf_kernels_1.0_224_no_top.h5\n",
            "\u001b[1m9406464/9406464\u001b[0m \u001b[32m━━━━━━━━━━━━━━━━━━━━\u001b[0m\u001b[37m\u001b[0m \u001b[1m0s\u001b[0m 0us/step\n"
          ]
        }
      ],
      "source": [
        "from tensorflow.keras.applications import MobileNetV2\n",
        "\n",
        "base_model = MobileNetV2(weights='imagenet', include_top=False, input_shape=(150, 150, 3))\n",
        "\n",
        "# Bekukan model dasar\n",
        "base_model.trainable = False\n",
        "\n",
        "# Tambahkan lapisan tambahan\n",
        "model = models.Sequential([\n",
        "    base_model,\n",
        "    layers.GlobalAveragePooling2D(),\n",
        "    layers.Dense(256, activation='relu'),\n",
        "    layers.Dropout(0.5),\n",
        "    layers.Dense(train_generator.num_classes, activation='softmax')\n",
        "])\n",
        "\n",
        "model.compile(optimizer='adam', loss='categorical_crossentropy', metrics=['accuracy'])\n"
      ]
    },
    {
      "cell_type": "markdown",
      "metadata": {
        "id": "YKuZXInJx03K"
      },
      "source": [
        "# Latih Model"
      ]
    },
    {
      "cell_type": "code",
      "execution_count": null,
      "metadata": {
        "colab": {
          "background_save": true,
          "base_uri": "https://localhost:8080/"
        },
        "id": "RCR2gxlJ0dhl",
        "outputId": "d9643ea4-9f20-4cc6-af17-1fce763a8786"
      },
      "outputs": [
        {
          "name": "stdout",
          "output_type": "stream",
          "text": [
            "Epoch 1/5\n",
            "\u001b[1m586/586\u001b[0m \u001b[32m━━━━━━━━━━━━━━━━━━━━\u001b[0m\u001b[37m\u001b[0m \u001b[1m861s\u001b[0m 1s/step - accuracy: 0.9332 - loss: 0.2534 - val_accuracy: 1.0000 - val_loss: 4.1610e-05\n",
            "Epoch 2/5\n",
            "\u001b[1m586/586\u001b[0m \u001b[32m━━━━━━━━━━━━━━━━━━━━\u001b[0m\u001b[37m\u001b[0m \u001b[1m831s\u001b[0m 1s/step - accuracy: 0.9949 - loss: 0.0143 - val_accuracy: 1.0000 - val_loss: 2.7353e-06\n",
            "Epoch 3/5\n",
            "\u001b[1m586/586\u001b[0m \u001b[32m━━━━━━━━━━━━━━━━━━━━\u001b[0m\u001b[37m\u001b[0m \u001b[1m0s\u001b[0m 832ms/step - accuracy: 0.9973 - loss: 0.0072"
          ]
        }
      ],
      "source": [
        "# Latih model\n",
        "history = model.fit(\n",
        "    train_generator,\n",
        "    epochs=5,\n",
        "    validation_data=val_generator\n",
        ")\n"
      ]
    }
  ],
  "metadata": {
    "colab": {
      "provenance": []
    },
    "kernelspec": {
      "display_name": "Python 3",
      "name": "python3"
    },
    "language_info": {
      "name": "python"
    }
  },
  "nbformat": 4,
  "nbformat_minor": 0
}